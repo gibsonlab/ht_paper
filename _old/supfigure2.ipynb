{
 "cells": [
  {
   "cell_type": "code",
   "execution_count": 111,
   "metadata": {
    "id": "goTc1gflfb-T"
   },
   "outputs": [],
   "source": [
    "import matplotlib.pyplot as plt\n",
    "import numpy as np\n",
    "import torch\n",
    "import torch.nn as nn\n",
    "import torch.nn.functional as F\n",
    "import torch.optim as optim\n",
    "import torchvision\n",
    "import torchvision.transforms as transforms\n",
    "from matplotlib.colors import Normalize, LogNorm\n",
    "from matplotlib.cm import ScalarMappable\n",
    "\n",
    "from tqdm import tqdm\n",
    "\n",
    "import random\n",
    "import warnings\n",
    "warnings.filterwarnings('ignore')"
   ]
  },
  {
   "cell_type": "code",
   "execution_count": 112,
   "metadata": {
    "id": "McvEnBRyiLya"
   },
   "outputs": [],
   "source": [
    "def generate_data(size, scheme, seed, a=5.0, b1=7.0, b2=14.0, c1=0.0, c2=5):\n",
    "    \"\"\"\n",
    "    Generates data that serves as input to the function.\n",
    "    Args:\n",
    "        size: (int) the total number of data points\n",
    "        scheme: (str) the nature of the generated data\n",
    "        seed: (int) the number used to initialize random number generation\n",
    "        a: (float) constant parameter\n",
    "        b1: (float) time-varying parameter\n",
    "        b2: (float) time-varying parameter\n",
    "\n",
    "    Returns:\n",
    "        (torch.tensor) values for a\n",
    "        (torch.tensor) values for b\n",
    "    \"\"\"\n",
    "\n",
    "    A = [torch.tensor(a) for i in range(size)]\n",
    "    B = [b1 for i in range(size)]\n",
    "    C = [c1 for i in range(size)]\n",
    "    if scheme == \"step\":\n",
    "        B = [b1 if i < size/2 else b2 for i in range(size)]\n",
    "    elif scheme == \"random\":\n",
    "        random.seed(seed)\n",
    "        B = [float(random.uniform(b1, b2)) for i in range(size)]\n",
    "    elif scheme == \"alternate\":\n",
    "        B = [b1 if i % 2 == 0 else b2 for i in range(size)]\n",
    "    elif scheme == \"shift\":\n",
    "        C = [c1 if i < size / 4 else c2 if i >= size / 4 and i<size/2 else c1 if i >= size / 2 and i<size*3/4 else c2 for i in range(size)]\n",
    "    elif scheme == \"random_shift\":\n",
    "        random.seed(seed)\n",
    "        B = [float(random.uniform(b1, b2)) for i in range(size)]\n",
    "        C = [c1 if i < size / 2 else c2 for i in range(size)]\n",
    "\n",
    "    return torch.tensor(np.array(A)), torch.tensor(np.array(B)), torch.tensor(np.array(C))"
   ]
  },
  {
   "cell_type": "code",
   "execution_count": 113,
   "metadata": {
    "id": "lw_h5Bg5hhfX"
   },
   "outputs": [],
   "source": [
    "def cost(a, b, c, x):\n",
    "    \"\"\"\n",
    "    the cost function\n",
    "    Args:\n",
    "        a, b, c: (torch.tensor) the parameters\n",
    "        x: (torch.Parameter) the variable\n",
    "    \"\"\"\n",
    "\n",
    "    return torch.log(a) + torch.log(torch.exp(-b * (x-c)) + torch.exp(b * (x-c)))"
   ]
  },
  {
   "cell_type": "code",
   "execution_count": 114,
   "metadata": {
    "id": "VPl1Iuo_hZmq"
   },
   "outputs": [],
   "source": [
    "def optimize_cost_ht(gamma, n_iters, x0, a_vec, b_vec, c_vec):\n",
    "    \"\"\"\n",
    "    optimizers the cost using higher order tuner\n",
    "    \"\"\"\n",
    "    loss_values = []\n",
    "    x_values = []\n",
    "    x = torch.tensor(x0, dtype=torch.float, requires_grad=True)\n",
    "    y = torch.tensor(x0, dtype=torch.float, requires_grad=False)\n",
    "    z = torch.tensor(x0, dtype=torch.float, requires_grad=False)\n",
    "    beta = 1 / gamma\n",
    "    for i in tqdm(range(n_iters)):\n",
    "        N_t = b_vec[i] ** 2\n",
    "        mu=gamma\n",
    "        alpha = mu / N_t\n",
    "        eta = gamma / N_t\n",
    "        x.data = beta * z + (1 - beta) * y\n",
    "        x.requires_grad = True\n",
    "        loss = cost(a_vec[i], b_vec[i], c_vec[i], x)\n",
    "        loss_values.append(loss.item())\n",
    "        loss.backward()\n",
    "        with torch.no_grad():\n",
    "            y = x - alpha * x.grad\n",
    "            z = z - eta * x.grad\n",
    "            \n",
    "        x_values.append(x.item())\n",
    "        x.grad = None\n",
    "        \n",
    "\n",
    "    loss = cost(a_vec[i], b_vec[i], c_vec[i], x)\n",
    "    loss_values.append(loss.item())\n",
    "    x_values.append(x.item())\n",
    "\n",
    "    return loss_values, x_values\n",
    "\n",
    "def optimize_cost(n_iters, lr, x0, optimizer_name, a_vec, b_vec, c_vec,\n",
    "                  decay=False, normalize=False):\n",
    "    \"\"\"\n",
    "    optimizes the cost function\n",
    "    \"\"\"\n",
    "\n",
    "    loss_values = []\n",
    "    x = torch.tensor(x0, dtype=torch.float, requires_grad=True)\n",
    "    x_values = [x.item()]\n",
    "    optimizer = optim.Adagrad([x], lr=lr)\n",
    "    \n",
    "    if optimizer_name == \"Adam\":\n",
    "        optimizer = optim.Adam([x], lr=lr)\n",
    "    elif optimizer_name == \"GD\":\n",
    "        optimizer = optim.SGD([x], lr=lr)\n",
    "    for i in tqdm(range(n_iters)):\n",
    "        if optimizer_name == \"Adam\":\n",
    "            if i >= 1:\n",
    "                optimizer.param_groups[0]['lr']=lr/np.sqrt(i)\n",
    "        if decay:\n",
    "            if i >= 1:\n",
    "                optimizer.param_groups[0]['lr']=lr/np.sqrt(i)\n",
    "        if normalize:\n",
    "            optimizer.param_groups[0]['lr']=lr / (b_vec[i] ** 2)\n",
    "\n",
    "        optimizer.zero_grad()\n",
    "        loss = cost(a_vec[i], b_vec[i], c_vec[i], x)\n",
    "        loss_values.append(loss.item())\n",
    "        loss.backward()\n",
    "        optimizer.step()\n",
    "        x_values.append(optimizer.param_groups[0]['params'][0].item())\n",
    "        \n",
    "    loss = cost(a_vec[i], b_vec[i], c_vec[i], x)\n",
    "    loss_values.append(loss.item())\n",
    "    x_values.append(x.item())\n",
    "\n",
    "    return np.array(loss_values) #, np.array(x_values)\n",
    "\n",
    "def optimize_cost_NAGD(n_iters, x0, a_vec, b_vec, c_vec, mu=1, gamma=1,\n",
    "                       normalize=False):\n",
    "    \"\"\"\n",
    "    optimizes the function using Nesterov's Accelerated Gradient Descent\n",
    "    \"\"\"\n",
    "\n",
    "    loss_values = []\n",
    "    x_values = []\n",
    "    x = torch.tensor(x0, dtype=torch.float, requires_grad=True)\n",
    "    y = torch.tensor(x0, dtype=torch.float)\n",
    "    ## this corresponds to tilde z\n",
    "    z = torch.tensor(x0, dtype=torch.float)*2\n",
    "\n",
    "    for i in tqdm(range(n_iters)):\n",
    "        N_t = 1\n",
    "        gamma = i / 2\n",
    "        if normalize:\n",
    "            N_t = b_vec[i] ** 2\n",
    "            eta = gamma / N_t\n",
    "        else:\n",
    "            # assuming we are provided with normalized rate\n",
    "            eta = gamma\n",
    "        alpha = mu / N_t\n",
    "\n",
    "        beta = 2 / (i + 1)\n",
    "        beta_next = 2 / (i + 2)\n",
    "        x = z + (1 - beta) * y\n",
    "        x.requires_grad = True\n",
    "        loss = cost(a_vec[i], b_vec[i], c_vec[i], x)\n",
    "        loss_values.append(loss.item())\n",
    "        loss.backward()\n",
    "        with torch.no_grad():\n",
    "            y = x - alpha * x.grad.data\n",
    "            z = beta_next / beta * z - beta_next * eta * x.grad.data\n",
    "\n",
    "        x_values.append(x.item())\n",
    "        x.grad = None\n",
    "    \n",
    "    loss = cost(a_vec[i], b_vec[i], c_vec[i], x)\n",
    "    loss_values.append(loss.item())\n",
    "    x_values.append(x.item())\n",
    "        \n",
    "    return np.array(loss_values)\n",
    "\n",
    "def optimize_cost_NAGD_beck(n_iters, x0, a_vec, b_vec, c_vec, mu=1,\n",
    "                            normalize=False):\n",
    "    \"\"\"\n",
    "    implements NAGD version by Beck and Tebouille\n",
    "    \"\"\"\n",
    "\n",
    "    x = torch.tensor(x0, dtype=torch.float, requires_grad=True)\n",
    "    y = torch.tensor(x0, dtype=torch.float, requires_grad=True)\n",
    "    loss_values = []\n",
    "    x_values = [x.item()]\n",
    "\n",
    "    lambda_prev = 0\n",
    "    for i in tqdm(range(n_iters)):\n",
    "        lambda_s = (1 + np.sqrt(1 + 4 * (lambda_prev ** 2))) / 2\n",
    "        lambda_next = (1 + np.sqrt(1 + 4 * (lambda_s ** 2))) / 2\n",
    "        gamma_s = (1 - lambda_s) / lambda_next\n",
    "\n",
    "        loss = cost(a_vec[i], b_vec[i], c_vec[i], x)\n",
    "        loss_values.append(loss.item())\n",
    "        loss.backward()\n",
    "        N_t = 1\n",
    "        if normalize:\n",
    "            N_t = b_vec[i] ** 2\n",
    "        alpha = mu / N_t\n",
    "        with torch.no_grad():\n",
    "            y_new = x - alpha * x.grad.data\n",
    "            x = (1 - gamma_s) * y_new + gamma_s * y\n",
    "            y = y_new\n",
    "\n",
    "        x_values.append(x.item())\n",
    "        x.requires_grad = True\n",
    "        x.grad = None\n",
    "        lambda_prev = lambda_s\n",
    "        \n",
    "    loss = cost(a_vec[i], b_vec[i], c_vec[i], x)\n",
    "    loss_values.append(loss.item())\n",
    "    x_values.append(x.item())\n",
    "\n",
    "    return loss_values #, x_values\n",
    "\n"
   ]
  },
  {
   "cell_type": "code",
   "execution_count": 118,
   "metadata": {},
   "outputs": [
    {
     "name": "stderr",
     "output_type": "stream",
     "text": [
      "100%|██████████| 200/200 [00:00<00:00, 10722.73it/s]\n",
      "100%|██████████| 200/200 [00:00<00:00, 13273.32it/s]\n",
      "100%|██████████| 200/200 [00:00<00:00, 13765.81it/s]\n",
      "100%|██████████| 200/200 [00:00<00:00, 14280.67it/s]\n",
      "100%|██████████| 200/200 [00:00<00:00, 15773.99it/s]\n",
      "100%|██████████| 200/200 [00:00<00:00, 14482.34it/s]\n",
      "100%|██████████| 200/200 [00:00<00:00, 14591.93it/s]\n",
      "100%|██████████| 200/200 [00:00<00:00, 15297.35it/s]\n",
      "100%|██████████| 200/200 [00:00<00:00, 15583.52it/s]\n",
      "100%|██████████| 200/200 [00:00<00:00, 15335.94it/s]\n",
      "100%|██████████| 200/200 [00:00<00:00, 14940.97it/s]\n",
      "100%|██████████| 200/200 [00:00<00:00, 14793.94it/s]\n",
      "100%|██████████| 200/200 [00:00<00:00, 10067.58it/s]\n",
      "100%|██████████| 200/200 [00:00<00:00, 14554.21it/s]\n",
      "100%|██████████| 200/200 [00:00<00:00, 14741.68it/s]\n"
     ]
    }
   ],
   "source": [
    "data_a, data_b, data_c = generate_data(200, \"shift\", 11, a=5.0, b1=7.0, b2=14.0,\n",
    "                                       c2=5.0)\n",
    "gamma_values = [1, 1+.125/2, 1.125, 1.25,1.25+.25/2, 1.5, 1.75, 2, 2.5, 3, 5,10]\n",
    "dict_results = {}\n",
    "for gamma in gamma_values:\n",
    "    loss, x = optimize_cost_ht(gamma, data_a.shape[0], 7.0, data_a,\n",
    "                               data_b, data_c)\n",
    "    dict_results[gamma] = loss\n",
    "\n",
    "x_start = 7.0\n",
    "results_gd = optimize_cost(data_a.shape[0], 1, x_start, \"GD\", data_a, data_b, data_c,\n",
    "                  decay=False, normalize=True)\n",
    "results_nagd = optimize_cost_NAGD(data_a.shape[0], x_start, data_a, data_b, data_c, mu=1, \n",
    "                                  gamma=1,normalize=True)\n",
    "results_nagd_beck = optimize_cost_NAGD_beck(data_a.shape[0], x_start, data_a,data_b, data_c, \n",
    "                                            mu=1,normalize=True)"
   ]
  },
  {
   "cell_type": "code",
   "execution_count": 121,
   "metadata": {
    "colab": {
     "base_uri": "https://localhost:8080/",
     "height": 431
    },
    "id": "5YAQwyXPfi26",
    "outputId": "9054e324-ce8b-4440-f618-faeb787e4451"
   },
   "outputs": [
    {
     "data": {
      "image/png": "[encoded data removed]",
      "text/plain": [
       "<Figure size 850x250 with 1 Axes>"
      ]
     },
     "metadata": {},
     "output_type": "display_data"
    }
   ],
   "source": [
    "linewidth=2\n",
    "linewidth1=1\n",
    "linewidth2=2\n",
    "\n",
    "fig = plt.figure(figsize=(8.5, 2.5), layout='constrained')\n",
    "#ax1 = fig.add_subplot(1, 2, 1)\n",
    "ax2 = fig.add_subplot(1, 1, 1)\n",
    "\n",
    "g = np.arange(1, 2, 0.00001)\n",
    "b = 1 / g\n",
    "m = g\n",
    "l = .999\n",
    "x = 100\n",
    "\n",
    "c5 = g**2 + x * (g-m)**2 - (1+l) * g\n",
    "c6 = 2 * (x *(g-m)+g)\n",
    "c7 = x - x * (1-b)**(-2)\n",
    "\n",
    "c8 = 4 * c5 * c7- c6**2\n",
    "\n",
    "color = 'lightcoral'\n",
    "ax1.set_xlabel(r'$\\gamma_t$')\n",
    "ax1.set_ylabel(r'$-c_5$', color=color)\n",
    "ax1.plot(g, -c5, color=color,linewidth=linewidth)\n",
    "ax1.tick_params(axis='y', labelcolor=color)\n",
    "\n",
    "ax1_twin = ax1.twinx()\n",
    "\n",
    "color = 'forestgreen'\n",
    "ax1_twin.set_ylabel(r'$4c_5c_7-c_6^2$', color=color)\n",
    "ax1_twin.plot(g, c8, color=color,linewidth=linewidth)\n",
    "ax1_twin.tick_params(axis='y', labelcolor=color)\n",
    "ax1_twin.set_yscale('log')\n",
    "#ax1.set_title(\"A\", loc=\"left\", fontweight=\"bold\")\n",
    "\n",
    "\n",
    "x = np.arange(0, results_gd.shape[0])\n",
    "# norm = LogNorm(vmin=min(dict_results.keys())/1.3, vmax=max(dict_results.keys())) # I added the lognorm scale - Travis\n",
    "# cmap = plt.get_cmap('gray_r')\n",
    "\n",
    "# for key in dict_results:\n",
    "#     color = cmap(norm(key))\n",
    "#     if key==1.25:\n",
    "#         ax2.plot(x, dict_results[key], color=color,linewidth=linewidth1, alpha=1, label='HT (color map)')\n",
    "#     else:\n",
    "#         ax2.plot(x, dict_results[key], color=color,linewidth=linewidth1, alpha=1)\n",
    "# sm = ScalarMappable(cmap=cmap, norm=norm)\n",
    "# sm.set_array([])\n",
    "# cbar = plt.colorbar(sm, ax=ax2)\n",
    "# cbar.set_label(r'$\\gamma_t$')\n",
    "\n",
    "# cbar.ax.set_ylim(1,10)\n",
    "\n",
    "\n",
    "#ax2.legend(title=\"HT($\\gamma_t_t$)\")\n",
    "ax2.set_xlabel(r\"$t$\")\n",
    "ax2.set_ylabel(r\"$f_t(x_t)$\")\n",
    "#ax2.set_title(\"B\", loc=\"left\", fontweight=\"bold\")\n",
    "ax2.plot(x, results_gd, '--',color=\"tab:blue\", label=\"GD\", linewidth=linewidth2)\n",
    "ax2.plot(x, results_nagd, '--', color=\"tab:red\", label=\"NAGD\",linewidth=linewidth2)\n",
    "ax2.plot(x, dict_results[2], '--', color=\"tab:purple\", label=\"HT ($\\gamma_t=2$)\",linewidth=linewidth2)\n",
    "\n",
    "ax2.legend(prop={'size': 9}, ncols=1,labelspacing=0)\n",
    "\n",
    "#ax1.text(-0.05, 1.01, 'A', transform=ax1.transAxes, size=12, weight='bold')\n",
    "#ax2.text(-0.05, 1.01, 'B', transform=ax2.transAxes, size=12, weight='bold')\n",
    "#plt.subplots_adjust(right=1.2)\n",
    "#ax2.set_xlim([2500, 2550])\n",
    "\n",
    "\n",
    "\n",
    "plt.savefig('supfigure2.pdf',pad_inches = 0,bbox_inches = 'tight')\n"
   ]
  },
  {
   "cell_type": "code",
   "execution_count": null,
   "metadata": {},
   "outputs": [],
   "source": []
  },
  {
   "cell_type": "code",
   "execution_count": 117,
   "metadata": {},
   "outputs": [
    {
     "name": "stdout",
     "output_type": "stream",
     "text": [
      "99243\n"
     ]
    }
   ],
   "source": [
    "_i=np.where(c8<0)[0]\n",
    "i=_i[0]\n",
    "print(_i[0])\n"
   ]
  },
  {
   "cell_type": "code",
   "execution_count": 49,
   "metadata": {},
   "outputs": [
    {
     "data": {
      "text/plain": [
       "np.float64(1.9835400000064434)"
      ]
     },
     "execution_count": 49,
     "metadata": {},
     "output_type": "execute_result"
    }
   ],
   "source": [
    "g[i]"
   ]
  },
  {
   "cell_type": "code",
   "execution_count": 35,
   "metadata": {},
   "outputs": [
    {
     "name": "stdout",
     "output_type": "stream",
     "text": [
      "g[i]\n"
     ]
    }
   ],
   "source": [
    "print(_i)"
   ]
  },
  {
   "cell_type": "code",
   "execution_count": null,
   "metadata": {},
   "outputs": [],
   "source": []
  },
  {
   "cell_type": "code",
   "execution_count": null,
   "metadata": {},
   "outputs": [],
   "source": []
  },
  {
   "cell_type": "code",
   "execution_count": null,
   "metadata": {},
   "outputs": [],
   "source": []
  },
  {
   "cell_type": "code",
   "execution_count": null,
   "metadata": {},
   "outputs": [],
   "source": []
  },
  {
   "cell_type": "code",
   "execution_count": null,
   "metadata": {},
   "outputs": [],
   "source": []
  },
  {
   "cell_type": "code",
   "execution_count": null,
   "metadata": {},
   "outputs": [],
   "source": []
  }
 ],
 "metadata": {
  "colab": {
   "provenance": []
  },
  "kernelspec": {
   "display_name": "opt",
   "language": "python",
   "name": "python3"
  },
  "language_info": {
   "codemirror_mode": {
    "name": "ipython",
    "version": 3
   },
   "file_extension": ".py",
   "mimetype": "text/x-python",
   "name": "python",
   "nbconvert_exporter": "python",
   "pygments_lexer": "ipython3",
   "version": "3.12.4"
  }
 },
 "nbformat": 4,
 "nbformat_minor": 1
}
